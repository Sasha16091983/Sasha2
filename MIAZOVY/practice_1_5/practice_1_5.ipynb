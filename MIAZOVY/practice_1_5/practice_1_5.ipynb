{
 "cells": [
  {
   "cell_type": "markdown",
   "metadata": {},
   "source": [
    "# Oleksanr\n",
    "    ## 5206 \n",
    "1. gov83@ukr.net"
   ]
  },
  {
   "cell_type": "code",
   "execution_count": null,
   "metadata": {},
   "outputs": [
    {
     "name": "stdout",
     "output_type": "stream",
     "text": [
      "Привіт! Як справи!\n"
     ]
    }
   ],
   "source": [
    "print(\"Привіт! Як справи!\")"
   ]
  },
  {
   "cell_type": "code",
   "execution_count": 2,
   "metadata": {},
   "outputs": [
    {
     "name": "stdout",
     "output_type": "stream",
     "text": [
      "Oleksandr 41 1.73 True\n",
      "<class 'str'> <class 'int'> <class 'float'> <class 'bool'>\n"
     ]
    }
   ],
   "source": [
    "name = \"Oleksandr\"  # str \n",
    "age = 41            # int \n",
    "heigt = 1.73        # float \n",
    "is_student = True   # bool \n",
    "print(name, age, heigt, is_student) \n",
    "print(type(name), type (age), type (heigt), type(is_student))"
   ]
  },
  {
   "cell_type": "code",
   "execution_count": 3,
   "metadata": {},
   "outputs": [
    {
     "name": "stdout",
     "output_type": "stream",
     "text": [
      "Результат множення 20 на 2: 40\n"
     ]
    }
   ],
   "source": [
    "user_input = input(\"20\")\n",
    "number = int(user_input) \n",
    "result = number * 2 \n",
    "print(f\"Результат множення {number} на 2: {result}\")"
   ]
  },
  {
   "cell_type": "code",
   "execution_count": 4,
   "metadata": {},
   "outputs": [
    {
     "name": "stdout",
     "output_type": "stream",
     "text": [
      "Вітаємо! Ви повнолітній.\n"
     ]
    }
   ],
   "source": [
    "age = int(input(\"41\"))\n",
    "if age < 18:\n",
    "    print(\"Ви ще не повнолітній.\")\n",
    "else:\n",
    "    print(\"Вітаємо! Ви повнолітній.\")"
   ]
  },
  {
   "cell_type": "code",
   "execution_count": 5,
   "metadata": {},
   "outputs": [
    {
     "name": "stdout",
     "output_type": "stream",
     "text": [
      "1\n",
      "2\n",
      "3\n",
      "4\n",
      "5\n",
      "6\n",
      "7\n",
      "8\n",
      "9\n",
      "10\n",
      "11\n",
      "12\n",
      "13\n",
      "14\n",
      "15\n",
      "16\n",
      "17\n",
      "18\n",
      "19\n",
      "20\n",
      "21\n",
      "22\n",
      "23\n",
      "24\n"
     ]
    }
   ],
   "source": [
    "for i in range(1, 25):\n",
    "    print (i)"
   ]
  },
  {
   "cell_type": "code",
   "execution_count": 6,
   "metadata": {},
   "outputs": [
    {
     "name": "stdout",
     "output_type": "stream",
     "text": [
      "24\n",
      "23\n",
      "22\n",
      "21\n",
      "20\n",
      "19\n",
      "18\n",
      "17\n",
      "16\n",
      "15\n",
      "14\n",
      "13\n",
      "12\n",
      "11\n",
      "10\n",
      "9\n",
      "8\n",
      "7\n",
      "6\n",
      "5\n",
      "4\n",
      "3\n",
      "2\n",
      "1\n"
     ]
    }
   ],
   "source": [
    "j = 24\n",
    "while j >= 1:\n",
    "    print(j)\n",
    "    j -= 1 "
   ]
  },
  {
   "cell_type": "code",
   "execution_count": 7,
   "metadata": {},
   "outputs": [
    {
     "name": "stdout",
     "output_type": "stream",
     "text": [
      "Простий калькулятор\n",
      "Результат: 30.0\n"
     ]
    }
   ],
   "source": [
    "print(\"Простий калькулятор\")\n",
    "\n",
    "num1 = float(input(\"20\"))\n",
    "num2 = float(input(\"10\"))\n",
    "operation = input(\"+,-,*,/\")\n",
    "if operation == \"+\":\n",
    "    result = num1 + num2\n",
    "elif operation == \"-\":\n",
    "    result = num1 - num2\n",
    "elif operation == \"*\":\n",
    "    result = num1 * num2\n",
    "elif operation == \"/\":\n",
    "    if num2 == 0:\n",
    "        result = \"Помилка: ділення на нуль!\"\n",
    "    else:\n",
    "        result = num1 / num2\n",
    "else:\n",
    "    result = \"Невідома операція!\"\n",
    "print(\"Результат:\", result)"
   ]
  }
 ],
 "metadata": {
  "kernelspec": {
   "display_name": "Python 3",
   "language": "python",
   "name": "python3"
  },
  "language_info": {
   "codemirror_mode": {
    "name": "ipython",
    "version": 3
   },
   "file_extension": ".py",
   "mimetype": "text/x-python",
   "name": "python",
   "nbconvert_exporter": "python",
   "pygments_lexer": "ipython3",
   "version": "3.11.6"
  }
 },
 "nbformat": 4,
 "nbformat_minor": 2
}

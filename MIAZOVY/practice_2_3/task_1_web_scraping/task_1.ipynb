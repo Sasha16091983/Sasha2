{
 "cells": [
  {
   "cell_type": "code",
   "execution_count": 1,
   "metadata": {},
   "outputs": [
    {
     "name": "stdout",
     "output_type": "stream",
     "text": [
      "Збираємо заголовки та дати...\n",
      "Знайдені пости:\n",
      "1. 4 Грудня, 2024 10:00 - Підбили підсумки діяльності Збройних Сил України у листопаді 2024 року\n",
      "2. 4 Грудня, 2024 9:05 - Вітаємо з Днем ракетних військ і артилерії!\n",
      "3. 4 Грудня, 2024 8:00 - Оперативна інформація станом на 08.00 04.12.2024 щодо російського вторгнення\n",
      "4. 3 Грудня, 2024 21:10 - Про зміни до законодавства України, що дозволяють військовослужбовцям, які самовільно залишили місце служби, без покарання повернутися до війська, йшлося під час брифінгу за участі представників Головного управління Військової служби правопорядку Збройних Сил України\n",
      "5. 3 Грудня, 2024 18:00 - У переддень професійного свята ракетних військ і артилерії, який цьогоріч відзначається 4 грудня у День святої Варвари – покровительки артилеристів і ракетників, Головне управління комунікацій Збройних Сил України презентувало випуск календаря «Лицарі пекельної заграви» артилеристи-Герої України.\n",
      "6. 3 Грудня, 2024 14:25 - #звичайніГерої\n",
      "7. 3 Грудня, 2024 12:05 - У межах Програми підтримки ОБСЄ для України, яка реалізується спільно з Міністерством оборони України, триває проведення регіональних семінарів з питань демократичного цивільного контролю над ЗС України\n",
      "8. 3 Грудня, 2024 11:40 - Військовий комітет НАТО зустрівся з Верховним головнокомандувачем Об’єднаних Збройних Сил НАТО в Європі генералом Крістофером Дж. Каволі\n",
      "9. 3 Грудня, 2024 8:10 - Оперативна інформація станом на 08.00 03.12.2024 щодо російського вторгнення\n",
      "10. 2 Грудня, 2024 12:10 - Вчимось перемагати безпечно!\n"
     ]
    }
   ],
   "source": [
    "import requests\n",
    "from bs4 import BeautifulSoup\n",
    "\n",
    "# URL сторінки для парсингу\n",
    "URL = \"https://www.zsu.gov.ua/category/news/page/14/\"\n",
    "\n",
    "# Функція для збору заголовків та дат\n",
    "def scrape_titles_and_dates(url):\n",
    "    try:\n",
    "        # Заголовки для запиту\n",
    "        headers = {\n",
    "            \"User-Agent\": \"Mozilla/5.0 (Windows NT 10.0; Win64; x64) AppleWebKit/537.36 (KHTML, like Gecko) Chrome/91.0.4472.124 Safari/537.36\",\n",
    "            \"Accept-Language\": \"en-US,en;q=0.9\",\n",
    "            \"Referer\": \"https://www.zsu.gov.ua/\"\n",
    "        }\n",
    "        \n",
    "        # Надсилаємо запит\n",
    "        response = requests.get(url, headers=headers)\n",
    "        response.raise_for_status()\n",
    "        \n",
    "        # Парсимо HTML\n",
    "        soup = BeautifulSoup(response.text, 'html.parser')\n",
    "        \n",
    "        # Збираємо всі блоки опису постів\n",
    "        posts = soup.find_all('div', class_='post__description')\n",
    "        \n",
    "        # Збираємо дати та заголовки\n",
    "        data = []\n",
    "        for post in posts:\n",
    "            date = post.find('div', class_='post__date').get_text(strip=True)\n",
    "            title = post.find('div', class_='post__title').get_text(strip=True)\n",
    "            data.append({\"date\": date, \"title\": title})\n",
    "        \n",
    "        return data\n",
    "    except requests.RequestException as e:\n",
    "        print(f\"Помилка запиту: {e}\")\n",
    "        return []\n",
    "    except Exception as e:\n",
    "        print(f\"Помилка парсингу: {e}\")\n",
    "        return []\n",
    "\n",
    "# Основний код\n",
    "if __name__ == \"__main__\":\n",
    "    print(\"Збираємо заголовки та дати...\")\n",
    "    posts_data = scrape_titles_and_dates(URL)\n",
    "    \n",
    "    if posts_data:\n",
    "        print(\"Знайдені пости:\")\n",
    "        for idx, post in enumerate(posts_data, start=1):\n",
    "            print(f\"{idx}. {post['date']} - {post['title']}\")\n",
    "    else:\n",
    "        print(\"Жодних даних не знайдено.\")"
   ]
  }
 ],
 "metadata": {
  "kernelspec": {
   "display_name": "Python 3",
   "language": "python",
   "name": "python3"
  },
  "language_info": {
   "codemirror_mode": {
    "name": "ipython",
    "version": 3
   },
   "file_extension": ".py",
   "mimetype": "text/x-python",
   "name": "python",
   "nbconvert_exporter": "python",
   "pygments_lexer": "ipython3",
   "version": "3.11.6"
  }
 },
 "nbformat": 4,
 "nbformat_minor": 2
}

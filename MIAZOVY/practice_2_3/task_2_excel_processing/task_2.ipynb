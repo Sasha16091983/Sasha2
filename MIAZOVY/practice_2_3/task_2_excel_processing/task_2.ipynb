{
 "cells": [
  {
   "cell_type": "code",
   "execution_count": 2,
   "metadata": {},
   "outputs": [
    {
     "data": {
      "text/plain": [
       "'data.xlsx'"
      ]
     },
     "execution_count": 2,
     "metadata": {},
     "output_type": "execute_result"
    }
   ],
   "source": [
    "import pandas as pd\n",
    "\n",
    "# Дані для створення Excel-файлу\n",
    "data = {\n",
    "    \"Ім'я\": [\"Іван\", \"Марія\", \"Олена\", \"Петро\", \"Анна\"],\n",
    "    \"Дата\": [\"2023-12-15\", \"2023-11-10\", \"2023-11-25\", \"2023-12-01\", \"2023-10-20\"],\n",
    "    \"Відділ\": [\"Продажі\", \"Розробка\", \"HR\", \"Маркетинг\", \"Фінанси\"],\n",
    "}\n",
    "\n",
    "# Створюємо DataFrame\n",
    "df = pd.DataFrame(data)\n",
    "\n",
    "# Зберігаємо у файл data.xlsx\n",
    "file_path = \"data.xlsx\"\n",
    "df.to_excel(file_path, index=False)\n",
    "\n",
    "file_path"
   ]
  },
  {
   "cell_type": "code",
   "execution_count": 3,
   "metadata": {},
   "outputs": [
    {
     "name": "stdout",
     "output_type": "stream",
     "text": [
      "Відфільтровані дані збережено у файл 'filtered_data.xlsx'.\n"
     ]
    }
   ],
   "source": [
    "import pandas as pd\n",
    "from datetime import datetime, timedelta\n",
    "\n",
    "# Шлях до файлу Excel\n",
    "input_file = \"data.xlsx\"  # Замініть на шлях до вашого файлу\n",
    "output_file = \"filtered_data.xlsx\"\n",
    "\n",
    "# Читання даних з Excel\n",
    "data = pd.read_excel(input_file)\n",
    "\n",
    "# Перевіряємо, чи є в таблиці колонка з датами\n",
    "date_column = \"Дата\"  # Замініть на назву колонки з датами у вашому файлі\n",
    "if date_column not in data.columns:\n",
    "    raise ValueError(f\"Колонка '{date_column}' не знайдена в даних.\")\n",
    "\n",
    "# Конвертуємо колонку з датами у формат datetime\n",
    "data[date_column] = pd.to_datetime(data[date_column], errors='coerce')\n",
    "\n",
    "# Вибираємо поточний місяць\n",
    "current_date = datetime.now()\n",
    "last_month_start = (current_date.replace(day=1) - timedelta(days=1)).replace(day=1)\n",
    "last_month_end = last_month_start.replace(day=1) + timedelta(days=31)\n",
    "last_month_end = last_month_end.replace(day=1) - timedelta(days=1)\n",
    "\n",
    "# Фільтруємо дані за останнім місяцем\n",
    "filtered_data = data[(data[date_column] >= last_month_start) & (data[date_column] <= last_month_end)]\n",
    "\n",
    "# Збереження відфільтрованих даних у новий Excel-файл\n",
    "filtered_data.to_excel(output_file, index=False)\n",
    "\n",
    "print(f\"Відфільтровані дані збережено у файл '{output_file}'.\")"
   ]
  }
 ],
 "metadata": {
  "kernelspec": {
   "display_name": "Python 3",
   "language": "python",
   "name": "python3"
  },
  "language_info": {
   "codemirror_mode": {
    "name": "ipython",
    "version": 3
   },
   "file_extension": ".py",
   "mimetype": "text/x-python",
   "name": "python",
   "nbconvert_exporter": "python",
   "pygments_lexer": "ipython3",
   "version": "3.11.6"
  }
 },
 "nbformat": 4,
 "nbformat_minor": 2
}

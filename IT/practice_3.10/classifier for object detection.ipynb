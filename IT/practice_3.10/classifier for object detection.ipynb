{
 "cells": [
  {
   "cell_type": "code",
   "execution_count": 7,
   "id": "f814ca83",
   "metadata": {},
   "outputs": [
    {
     "name": "stdout",
     "output_type": "stream",
     "text": [
      "Файл класифікатора знайдено!\n"
     ]
    }
   ],
   "source": [
    "import os\n",
    "\n",
    "file_path = 'C:/practice_4444/SASHA_IT/practice_3.10/haarcascade_frontalface_default.xml'\n",
    "if os.path.exists(file_path):\n",
    "    print(\"Файл класифікатора знайдено!\")\n",
    "else:\n",
    "    print(\"Файл класифікатора не знайдено!\")\n"
   ]
  },
  {
   "cell_type": "code",
   "execution_count": 8,
   "id": "face_detection",
   "metadata": {},
   "outputs": [
    {
     "name": "stdout",
     "output_type": "stream",
     "text": [
      "Знайдено 5 облич\n"
     ]
    }
   ],
   "source": [
    "import cv2\n",
    "import numpy as np\n",
    "\n",
    "# Завантаження класифікатора Haar для виявлення облич\n",
    "face_cascade = cv2.CascadeClassifier('C:/practice_4444/SASHA_IT/practice_3.10/haarcascade_frontalface_default.xml')\n",
    "\n",
    "# Завантаження зображення\n",
    "image_path = 'C:/practice_4444/SASHA_IT/practice_3.10/10.jpg'\n",
    "image = cv2.imread(image_path)\n",
    "\n",
    "# Перевірка, чи зображення успішно завантажено\n",
    "if image is None:\n",
    "    print(\"Помилка: Не вдалося завантажити зображення\")\n",
    "else:\n",
    "    # Перетворення зображення у відтінки сірого (необхідно для класифікатора Haar)\n",
    "    gray = cv2.cvtColor(image, cv2.COLOR_BGR2GRAY)\n",
    "    \n",
    "    # Виявлення облич на зображенні\n",
    "    # параметри: зображення, масштабний фактор, мінімальна кількість сусідів\n",
    "    faces = face_cascade.detectMultiScale(gray, 1.1, 4)\n",
    "    \n",
    "    # Виведення кількості знайдених облич\n",
    "    print(f\"Знайдено {len(faces)} облич\")\n",
    "    \n",
    "    # Малювання прямокутників навколо виявлених облич\n",
    "    for (x, y, w, h) in faces:\n",
    "        cv2.rectangle(image, (x, y), (x+w, y+h), (255, 0, 0), 2)\n",
    "    \n",
    "    # Відображення результату\n",
    "    cv2.imshow('Виявлення облич', image)\n",
    "    cv2.waitKey(0)\n",
    "    cv2.destroyAllWindows()\n"
   ]
  },
  {
   "cell_type": "code",
   "execution_count": 9,
   "id": "advanced_detection",
   "metadata": {},
   "outputs": [
    {
     "name": "stdout",
     "output_type": "stream",
     "text": [
      "Знайдено 1 облич з покращеними параметрами\n"
     ]
    }
   ],
   "source": [
    "# Додаткові параметри для покращення виявлення облич\n",
    "# Виявлення облич з різними параметрами масштабування та мінімальної кількості сусідів\n",
    "image_copy = image.copy()\n",
    "faces_improved = face_cascade.detectMultiScale(\n",
    "    gray,\n",
    "    scaleFactor=1.2,  # Більший масштабний фактор для кращого виявлення\n",
    "    minNeighbors=5,   # Більше сусідів для зменшення хибних спрацьовувань\n",
    "    minSize=(30, 30)  # Мінімальний розмір обличчя для виявлення\n",
    ")\n",
    "\n",
    "print(f\"Знайдено {len(faces_improved)} облич з покращеними параметрами\")\n",
    "\n",
    "# Малювання прямокутників з іншим кольором\n",
    "for (x, y, w, h) in faces_improved:\n",
    "    cv2.rectangle(image_copy, (x, y), (x+w, y+h), (0, 255, 0), 2)\n",
    "    \n",
    "# Відображення результату\n",
    "cv2.imshow('Покращене виявлення облич', image_copy)\n",
    "cv2.waitKey(0)\n",
    "cv2.destroyAllWindows()\n"
   ]
  }
 ],
 "metadata": {
  "kernelspec": {
   "display_name": "Python 3",
   "language": "python",
   "name": "python3"
  },
  "language_info": {
   "codemirror_mode": {
    "name": "ipython",
    "version": 3
   },
   "file_extension": ".py",
   "mimetype": "text/x-python",
   "name": "python",
   "nbconvert_exporter": "python",
   "pygments_lexer": "ipython3",
   "version": "3.11.6"
  }
 },
 "nbformat": 4,
 "nbformat_minor": 5
}

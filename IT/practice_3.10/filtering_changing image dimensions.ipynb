{
 "cells": [
  {
   "cell_type": "code",
   "execution_count": 1,
   "id": "3a92f4dc",
   "metadata": {},
   "outputs": [
    {
     "name": "stdout",
     "output_type": "stream",
     "text": [
      "Requirement already satisfied: opencv-python in c:\\users\\александр\\appdata\\local\\programs\\python\\python311\\lib\\site-packages (4.11.0.86)Note: you may need to restart the kernel to use updated packages.\n",
      "\n",
      "Requirement already satisfied: numpy>=1.21.2 in c:\\users\\александр\\appdata\\local\\programs\\python\\python311\\lib\\site-packages (from opencv-python) (2.1.3)\n"
     ]
    },
    {
     "name": "stderr",
     "output_type": "stream",
     "text": [
      "\n",
      "[notice] A new release of pip is available: 23.2.1 -> 25.1\n",
      "[notice] To update, run: python.exe -m pip install --upgrade pip\n"
     ]
    }
   ],
   "source": [
    "pip install opencv-python\n"
   ]
  },
  {
   "cell_type": "code",
   "execution_count": 2,
   "id": "6ffbc50d",
   "metadata": {},
   "outputs": [
    {
     "name": "stdout",
     "output_type": "stream",
     "text": [
      "(1200, 800, 3)\n"
     ]
    }
   ],
   "source": [
    "import cv2\n",
    "\n",
    "# Завантаження зображення\n",
    "image = cv2.imread('C:/practice_4444/SASHA_IT/practice_3.10/10.jpg')\n",
    "\n",
    "if image is None:\n",
    "    print(\"Не вдалося завантажити зображення!\")\n",
    "else:\n",
    "    # Зменшення розміру зображення до 800x1200\n",
    "    resized_image = cv2.resize(image, (800, 1200))\n",
    "    print(resized_image.shape)\n",
    "\n",
    "    # Відображення зменшеного зображення\n",
    "    cv2.imshow(\"Resized Image\", resized_image)\n",
    "    cv2.waitKey(0)\n",
    "    cv2.destroyAllWindows()\n"
   ]
  },
  {
   "cell_type": "code",
   "execution_count": 3,
   "id": "processing_image",
   "metadata": {},
   "outputs": [],
   "source": [
    "# Перетворення у відтінки сірого\n",
    "gray = cv2.cvtColor(image, cv2.COLOR_BGR2GRAY)\n",
    "\n",
    "# Зміна розміру\n",
    "resized = cv2.resize(gray, (128, 128))\n",
    "\n",
    "# Застосування розмиття (Gaussian Blur)\n",
    "blurred = cv2.GaussianBlur(resized, (5, 5), 0)\n",
    "\n",
    "# Відображення результатів\n",
    "cv2.imshow(\"Gray Image\", gray)\n",
    "cv2.imshow(\"Resized Image\", resized)\n",
    "cv2.imshow(\"Blurred Image\", blurred)\n",
    "cv2.waitKey(0)\n",
    "cv2.destroyAllWindows()\n"
   ]
  },
  {
   "cell_type": "code",
   "execution_count": 4,
   "id": "edge_detection",
   "metadata": {},
   "outputs": [],
   "source": [
    "# Виявлення контурів за допомогою Canny Edge Detection\n",
    "edges = cv2.Canny(gray, 50, 150)\n",
    "\n",
    "# Відображення результатів\n",
    "cv2.imshow(\"Edges\", edges)\n",
    "cv2.waitKey(0)\n",
    "cv2.destroyAllWindows()\n"
   ]
  }
 ],
 "metadata": {
  "kernelspec": {
   "display_name": "Python 3",
   "language": "python",
   "name": "python3"
  },
  "language_info": {
   "codemirror_mode": {
    "name": "ipython",
    "version": 3
   },
   "file_extension": ".py",
   "mimetype": "text/x-python",
   "name": "python",
   "nbconvert_exporter": "python",
   "pygments_lexer": "ipython3",
   "version": "3.11.6"
  }
 },
 "nbformat": 4,
 "nbformat_minor": 5
}
